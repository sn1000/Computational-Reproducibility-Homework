{
  "nbformat": 4,
  "nbformat_minor": 0,
  "metadata": {
    "colab": {
      "provenance": []
    },
    "kernelspec": {
      "name": "python3",
      "display_name": "Python 3"
    },
    "language_info": {
      "name": "python"
    }
  },
  "cells": [
    {
      "cell_type": "code",
      "execution_count": 4,
      "metadata": {
        "colab": {
          "base_uri": "https://localhost:8080/"
        },
        "id": "wqu3GW8Rh-cz",
        "outputId": "51d70292-3e71-4bcc-9d1a-4779a2fc34e5"
      },
      "outputs": [
        {
          "output_type": "stream",
          "name": "stdout",
          "text": [
            "Wednesday, October 30, 2024\n"
          ]
        },
        {
          "output_type": "execute_result",
          "data": {
            "text/plain": [
              "10"
            ]
          },
          "metadata": {},
          "execution_count": 4
        }
      ],
      "source": [
        "print (\"Wednesday, October 30, 2024\")\n",
        "\n",
        "2*5"
      ]
    },
    {
      "cell_type": "markdown",
      "source": [
        "Frist of all, this is a pretty cool tool. Thank you for introducing us to this.\n",
        "\n",
        "Using tools such as GitHub can enhance computational reproducibility by providing a structured and transparent framework for managing code and data. It also allows for collaboration among a group of people and in sharing processing pipelines. With this tool, I can easily track changes in mine and in my lab mates' code and datasets. This can also make it easier for someone not so heaviliy involved wth the project, like a statistician or supervisor, to understand the evolution of the project, making it easier to identify when specific results were achieved and how they were derived.\n",
        "\n",
        "The ability to go back to previous versions ensures that any errors introduced in later stages can be addressed and corrected. Of course platforms such as Github and other open-code initiatives help esnure reproducibility, since access to the complete codebase and documentation allows other researchers to replicate their experiments.\n",
        "\n"
      ],
      "metadata": {
        "id": "1ege2ENZi3y3"
      }
    }
  ]
}